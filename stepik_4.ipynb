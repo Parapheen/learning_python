{
 "cells": [
  {
   "cell_type": "markdown",
   "metadata": {},
   "source": [
    "Напишите программу, которая принимает на стандартный вход список игр футбольных команд с результатом матча и выводит на стандартный вывод сводную таблицу результатов всех матчей.\n",
    "\n",
    "За победу команде начисляется 3 очка, за поражение — 0, за ничью — 1.\n",
    "\n",
    "Формат ввода следующий:\n",
    "В первой строке указано целое число 𝑛 — количество завершенных игр.\n",
    "После этого идет 𝑛 строк, в которых записаны результаты игры в следующем формате:\n",
    "Первая_команда;Забито_первой_командой;Вторая_команда;Забито_второй_командой\n",
    "\n",
    "Вывод программы необходимо оформить следующим образом:\n",
    "Команда:Всего_игр Побед Ничьих Поражений Всего_очков\n",
    "\n",
    "Конкретный пример ввода-вывода приведён ниже.\n",
    "\n",
    "Порядок вывода команд произвольный.\n",
    "\n",
    "Sample Input:\n",
    "\n",
    "3\n",
    "Зенит;3;Спартак;1\n",
    "Спартак;1;ЦСКА;1\n",
    "ЦСКА;0;Зенит;2\n",
    "Sample Output:\n",
    "\n",
    "Зенит:2 2 0 0 6\n",
    "ЦСКА:2 0 1 1 1\n",
    "Спартак:2 0 1 1 1"
   ]
  },
  {
   "cell_type": "code",
   "execution_count": 124,
   "metadata": {
    "scrolled": false
   },
   "outputs": [
    {
     "name": "stdout",
     "output_type": "stream",
     "text": [
      "3\n",
      "Зенит;3;Спартак;1\\nСпартак;1;ЦСКА;1\\nЦСКА;0;Зенит;2\n"
     ]
    }
   ],
   "source": [
    "n = int(input())\n",
    "games_ = input()\n",
    "games = games_.strip('\\n').split()"
   ]
  },
  {
   "cell_type": "code",
   "execution_count": 125,
   "metadata": {},
   "outputs": [
    {
     "data": {
      "text/plain": [
       "['Зенит;3;Спартак;1\\\\nСпартак;1;ЦСКА;1\\\\nЦСКА;0;Зенит;2']"
      ]
     },
     "execution_count": 125,
     "metadata": {},
     "output_type": "execute_result"
    }
   ],
   "source": [
    "games"
   ]
  },
  {
   "cell_type": "code",
   "execution_count": 115,
   "metadata": {},
   "outputs": [],
   "source": [
    "team_result = {}\n",
    "for game in games:\n",
    "    team_1 = game.split(';')[0]\n",
    "    team_2 = game.split(';')[-2]\n",
    "    score_1 = game.split(';')[1]\n",
    "    score_2 = game.split(';')[-1]\n",
    "    if score_1 > score_2:\n",
    "        if team_1 not in team_result and team_2 not in team_result:\n",
    "            team_result[team_1] = ['win']\n",
    "            team_result[team_2] = ['lose']\n",
    "        elif team_1 in team_result and team_2 not in team_result:\n",
    "            team_result[team_1].append('win')\n",
    "            team_result[team_2] = ['lose']\n",
    "        elif not team_1 not in team_result and team_2 in team_result:\n",
    "            team_result[team_1] = ['win']\n",
    "            team_result[team_2].append('lose')\n",
    "        else:\n",
    "            team_result[team_1].append('win')\n",
    "            team_result[team_2].append('lose')\n",
    "    elif score_1 < score_2:\n",
    "        if team_1 not in team_result and team_2 not in team_result:\n",
    "            team_result[team_1] = ['lose']\n",
    "            team_result[team_2] = ['win']\n",
    "        elif team_1 in team_result and team_2 not in team_result:\n",
    "            team_result[team_1].append('lose')\n",
    "            team_result[team_2] = ['wine']\n",
    "        elif team_1 not in team_result and team_2 in team_result:\n",
    "            team_result[team_1] = ['lose']\n",
    "            team_result[team_2].append('win')\n",
    "        else:\n",
    "            team_result[team_1].append('lose')\n",
    "            team_result[team_2].append('win')\n",
    "    elif score_1 == score_2:\n",
    "        if team_1 not in team_result and team_2 not in team_result:\n",
    "            team_result[team_1] = ['draw']\n",
    "            team_result[team_2] = ['draw']\n",
    "        elif team_1 in team_result and team_2 not in team_result:\n",
    "            team_result[team_1].append('draw')\n",
    "            team_result[team_2] = ['draw']\n",
    "        elif team_1 not in team_result and team_2 in team_result:\n",
    "            team_result[team_1] = ['draw']\n",
    "            team_result[team_2].append('draw')\n",
    "        else:\n",
    "            team_result[team_1].append('draw')\n",
    "            team_result[team_2].append('draw')"
   ]
  },
  {
   "cell_type": "code",
   "execution_count": 121,
   "metadata": {},
   "outputs": [
    {
     "name": "stdout",
     "output_type": "stream",
     "text": [
      "Зенит:2 2 0 0 6\n",
      "Спартак:2 0 1 1 1\n",
      "ЦСКА:2 0 1 1 1\n"
     ]
    }
   ],
   "source": [
    "for team, results in team_result.items():\n",
    "    wins = ''.join(results).count('win')\n",
    "    draws = ''.join(results).count('draw')\n",
    "    loses = ''.join(results).count('lose')\n",
    "    all_points = wins*3 + draws*1\n",
    "    print('{team}:{games_played} {wins} {draws} {loses} {all_points}'.format(team=team, games_played=len(results), wins=wins,\n",
    "                                                               draws=draws, loses=loses, all_points=all_points))"
   ]
  },
  {
   "cell_type": "code",
   "execution_count": 126,
   "metadata": {},
   "outputs": [],
   "source": [
    "import requests"
   ]
  },
  {
   "cell_type": "code",
   "execution_count": 127,
   "metadata": {},
   "outputs": [],
   "source": [
    "r = requests.get('https://stepic.org/media/attachments/course67/3.6.2/119.txt').text"
   ]
  },
  {
   "cell_type": "code",
   "execution_count": 133,
   "metadata": {
    "scrolled": true
   },
   "outputs": [
    {
     "data": {
      "text/plain": [
       "['\"Shut the \\'relatives\\' up,\" said Beatty, looking around at everything except Montag and his wife.',\n",
       " '',\n",
       " 'This time, Mildred ran. The yammering voices stopped yelling in the parlor.',\n",
       " '',\n",
       " 'Captain Beatty sat down in the most comfortable chair with a peaceful look on his ruddy face. He took time to prepare and light his brass pipe and puff out a great smoke cloud. \"Just thought I\\'d come by and see how the sick man is.\"',\n",
       " '',\n",
       " '\"How\\'d you guess?\"',\n",
       " '',\n",
       " 'Beatty smiled his smile which showed the candy pinkness of his gums and the tiny candy whiteness of his teeth. \"I\\'ve seen it all. You were going to call for a night off.\"',\n",
       " '',\n",
       " 'Montag sat in bed.',\n",
       " '',\n",
       " '\"Well,\" said Beatty, \"take the night off!\" He examined his eternal matchbox, the lid of which said GUARANTEED: ONE MILLION LIGHTS IN THIS IGNITER, and began to strike the chemical match abstractedly, blowout, strike, blowout, strike, speak a few words, blowout. He looked at the flame. He blew, he looked at the smoke. \"When will you be well?\"',\n",
       " '',\n",
       " '\"Tomorrow. The next day maybe. First of the week.\"',\n",
       " '',\n",
       " 'Beatty puffed his pipe. \"Every fireman, sooner or later, hits this. They only need understanding, to know how the wheels run. Need to know the history of our profession. They don\\'t feed it to rookies like they used to. Damn shame.\" Puff.  \"Only fire chiefs remember it now. \" Puff. \"I\\'ll let you in on it.\"',\n",
       " '',\n",
       " 'Mildred fidgeted.',\n",
       " '',\n",
       " 'Beatty took a full minute to settle himself in and think back for what he wanted to say.',\n",
       " '',\n",
       " '\"When did it all start, you ask, this job of ours, how did it come about, where, when? Well, I\\'d say it really got started around about a thing called the Civil War.  Even though our rule book claims it was founded earlier. The fact is we didn\\'t get along well until photography came into its own. Then motion pictures in the early twentieth century. Radio. Television. Things began to have mass.\"',\n",
       " '',\n",
       " 'Montag sat in bed, not moving.']"
      ]
     },
     "execution_count": 133,
     "metadata": {},
     "output_type": "execute_result"
    }
   ],
   "source": [
    "r.strip().splitlines()"
   ]
  },
  {
   "cell_type": "code",
   "execution_count": 131,
   "metadata": {},
   "outputs": [
    {
     "data": {
      "text/plain": [
       "25"
      ]
     },
     "execution_count": 131,
     "metadata": {},
     "output_type": "execute_result"
    }
   ],
   "source": [
    "len(r.strip().splitlines())"
   ]
  },
  {
   "cell_type": "code",
   "execution_count": 134,
   "metadata": {},
   "outputs": [],
   "source": [
    "re = requests.get('https://stepic.org/media/attachments/course67/3.6.3/699991.txt').text"
   ]
  },
  {
   "cell_type": "code",
   "execution_count": 135,
   "metadata": {},
   "outputs": [
    {
     "data": {
      "text/plain": [
       "'213837.txt'"
      ]
     },
     "execution_count": 135,
     "metadata": {},
     "output_type": "execute_result"
    }
   ],
   "source": [
    "re"
   ]
  },
  {
   "cell_type": "code",
   "execution_count": 180,
   "metadata": {},
   "outputs": [],
   "source": [
    "req = requests.get('https://stepic.org/media/attachments/course67/3.6.3/104249.txt').text"
   ]
  },
  {
   "cell_type": "code",
   "execution_count": 186,
   "metadata": {},
   "outputs": [
    {
     "name": "stdout",
     "output_type": "stream",
     "text": [
      "213837.txt\n",
      "396639.txt\n",
      "835329.txt\n",
      "344063.txt\n",
      "194307.txt\n",
      "195211.txt\n",
      "769171.txt\n",
      "153554.txt\n",
      "680916.txt\n",
      "335636.txt\n",
      "935728.txt\n",
      "081303.txt\n",
      "792633.txt\n",
      "668368.txt\n",
      "647731.txt\n",
      "904392.txt\n",
      "684563.txt\n",
      "997337.txt\n",
      "329467.txt\n",
      "366219.txt\n",
      "730037.txt\n",
      "310230.txt\n",
      "104249.txt\n",
      "382504.txt\n",
      "433681.txt\n",
      "507359.txt\n",
      "293649.txt\n",
      "011641.txt\n",
      "717942.txt\n",
      "258080.txt\n",
      "569395.txt\n",
      "756825.txt\n",
      "921388.txt\n",
      "437007.txt\n",
      "004090.txt\n",
      "362705.txt\n",
      "145282.txt\n",
      "990216.txt\n",
      "645783.txt\n",
      "451262.txt\n",
      "193295.txt\n",
      "777343.txt\n",
      "324603.txt\n",
      "888934.txt\n",
      "138655.txt\n",
      "818396.txt\n",
      "290594.txt\n",
      "478003.txt\n",
      "276687.txt\n",
      "703763.txt\n",
      "712469.txt\n",
      "064418.txt\n",
      "246033.txt\n",
      "356768.txt\n",
      "504290.txt\n",
      "629914.txt\n",
      "062456.txt\n",
      "658472.txt\n",
      "037659.txt\n",
      "351978.txt\n",
      "523822.txt\n",
      "653493.txt\n",
      "859227.txt\n",
      "878358.txt\n",
      "944504.txt\n",
      "457602.txt\n",
      "548571.txt\n",
      "090976.txt\n",
      "965991.txt\n",
      "138128.txt\n",
      "255843.txt\n",
      "797598.txt\n",
      "640003.txt\n",
      "789435.txt\n",
      "181382.txt\n",
      "590526.txt\n",
      "430513.txt\n",
      "182774.txt\n",
      "924794.txt\n",
      "998193.txt\n",
      "770039.txt\n",
      "619504.txt\n",
      "098137.txt\n",
      "874234.txt\n",
      "476929.txt\n",
      "254654.txt\n",
      "972817.txt\n",
      "183249.txt\n",
      "231788.txt\n",
      "238807.txt\n",
      "775176.txt\n",
      "332055.txt\n",
      "971266.txt\n",
      "641342.txt\n",
      "377648.txt\n",
      "665641.txt\n",
      "120842.txt\n",
      "435728.txt\n",
      "860507.txt\n",
      "845049.txt\n",
      "103662.txt\n",
      "989375.txt\n",
      "949525.txt\n",
      "622807.txt\n",
      "441279.txt\n",
      "252484.txt\n",
      "595082.txt\n",
      "942502.txt\n",
      "544418.txt\n",
      "242071.txt\n",
      "696203.txt\n",
      "470997.txt\n",
      "858079.txt\n",
      "299971.txt\n",
      "474312.txt\n",
      "202815.txt\n",
      "192361.txt\n",
      "036087.txt\n",
      "208836.txt\n",
      "057270.txt\n",
      "414940.txt\n",
      "685551.txt\n",
      "877276.txt\n",
      "183839.txt\n",
      "681194.txt\n",
      "268115.txt\n",
      "850395.txt\n",
      "841311.txt\n",
      "318124.txt\n",
      "502298.txt\n",
      "870820.txt\n",
      "886554.txt\n",
      "874723.txt\n",
      "785247.txt\n",
      "743951.txt\n",
      "893121.txt\n",
      "493592.txt\n",
      "043302.txt\n",
      "512901.txt\n",
      "455422.txt\n",
      "405792.txt\n",
      "223561.txt\n",
      "711048.txt\n",
      "986818.txt\n",
      "919305.txt\n",
      "673023.txt\n",
      "195915.txt\n",
      "113918.txt\n",
      "829948.txt\n",
      "407495.txt\n",
      "799448.txt\n",
      "455591.txt\n",
      "046533.txt\n",
      "895838.txt\n",
      "203749.txt\n",
      "897513.txt\n",
      "023903.txt\n",
      "639854.txt\n",
      "767954.txt\n",
      "483260.txt\n",
      "305657.txt\n",
      "113973.txt\n",
      "569665.txt\n",
      "811640.txt\n",
      "627996.txt\n",
      "555691.txt\n",
      "126531.txt\n",
      "434239.txt\n",
      "812997.txt\n",
      "012540.txt\n",
      "457171.txt\n",
      "809767.txt\n",
      "113083.txt\n",
      "168190.txt\n",
      "105218.txt\n",
      "426930.txt\n",
      "839383.txt\n",
      "318610.txt\n",
      "727580.txt\n",
      "966169.txt\n",
      "633699.txt\n",
      "933699.txt\n",
      "254907.txt\n",
      "277257.txt\n",
      "105289.txt\n",
      "618947.txt\n",
      "788422.txt\n",
      "598850.txt\n",
      "218724.txt\n",
      "855788.txt\n",
      "414896.txt\n",
      "086361.txt\n",
      "259720.txt\n",
      "864746.txt\n",
      "213015.txt\n",
      "706951.txt\n",
      "790699.txt\n",
      "556965.txt\n",
      "843911.txt\n",
      "824452.txt\n",
      "558623.txt\n",
      "299517.txt\n",
      "204151.txt\n",
      "864178.txt\n",
      "001410.txt\n",
      "268784.txt\n",
      "413917.txt\n",
      "258819.txt\n",
      "694433.txt\n",
      "376424.txt\n",
      "198564.txt\n",
      "228068.txt\n",
      "417050.txt\n",
      "453058.txt\n",
      "182986.txt\n",
      "237570.txt\n",
      "680981.txt\n",
      "865546.txt\n",
      "367559.txt\n",
      "122687.txt\n",
      "783680.txt\n",
      "626200.txt\n",
      "953943.txt\n",
      "009102.txt\n",
      "882919.txt\n",
      "984198.txt\n",
      "867571.txt\n",
      "889641.txt\n",
      "223919.txt\n",
      "748056.txt\n",
      "577611.txt\n",
      "749540.txt\n",
      "536080.txt\n",
      "351770.txt\n",
      "968708.txt\n",
      "311090.txt\n",
      "239129.txt\n",
      "312237.txt\n",
      "053569.txt\n",
      "678528.txt\n",
      "767429.txt\n",
      "095729.txt\n",
      "452488.txt\n",
      "798915.txt\n",
      "426191.txt\n",
      "067336.txt\n",
      "949017.txt\n",
      "987573.txt\n",
      "843785.txt\n",
      "We are the champions, my friends,\n",
      "And we'll keep on fighting 'til the end.\n",
      "We are the champions.\n",
      "We are the champions.\n",
      "No time for losers\n",
      "'Cause we are the champions of the world.\n"
     ]
    }
   ],
   "source": [
    "doc = '699991.txt'\n",
    "while 'txt' in doc:\n",
    "    re = requests.get(f'https://stepic.org/media/attachments/course67/3.6.3/{doc}')\n",
    "    print(re.text)\n",
    "    doc = re.text"
   ]
  },
  {
   "cell_type": "markdown",
   "metadata": {},
   "source": [
    "Группа биологов в институте биоинформатики завела себе черепашку.\n",
    "\n",
    "После дрессировки черепашка научилась понимать и запоминать указания биологов следующего вида:\n",
    "север 10\n",
    "запад 20\n",
    "юг 30\n",
    "восток 40\n",
    "где первое слово — это направление, в котором должна двигаться черепашка, а число после слова — это положительное расстояние в сантиметрах, которое должна пройти черепашка.\n",
    "\n",
    "Но команды даются быстро, а черепашка ползёт медленно, и программисты догадались, что можно написать программу, которая определит, куда в итоге биологи приведут черепашку. Для этого программисты просят вас написать программу, которая выведет точку, в которой окажется черепашка после всех команд. Для простоты они решили считать, что движение начинается в точке (0, 0), и движение на восток увеличивает первую координату, а на север — вторую.\n",
    "\n",
    "Программе подаётся на вход число команд nn, которые нужно выполнить черепашке, после чего nn строк с самими командами. Вывести нужно два числа в одну строку: первую и вторую координату конечной точки черепашки. Все координаты целочисленные.\n",
    "\n",
    "Sample Input:\n",
    "\n",
    "4\n",
    "север 10\n",
    "запад 20\n",
    "юг 30\n",
    "восток 40\n",
    "Sample Output:\n",
    "\n",
    "20 -20"
   ]
  },
  {
   "cell_type": "code",
   "execution_count": 197,
   "metadata": {
    "scrolled": true
   },
   "outputs": [
    {
     "name": "stdout",
     "output_type": "stream",
     "text": [
      "4\n",
      "север 10\n",
      "запад 20\n",
      "юг 30\n",
      "восток 40\n",
      "20 -20\n"
     ]
    }
   ],
   "source": [
    "n = int(input())\n",
    "commands = [input() for i in range(n)]\n",
    "\n",
    "start = [0,0]\n",
    "\n",
    "for command in commands:\n",
    "    direction = command.split()[0]\n",
    "    value = int(command.split()[-1])\n",
    "    if direction == 'восток':\n",
    "        start[0] = start[0] + value\n",
    "    elif direction == 'запад':\n",
    "        start[0] = start[0] - value\n",
    "    elif direction == 'север':\n",
    "        start[1] = start[1] + value\n",
    "    elif direction == 'юг':\n",
    "        start[1] = start[1] - value\n",
    "        \n",
    "print(start[0], start[1])"
   ]
  },
  {
   "cell_type": "code",
   "execution_count": null,
   "metadata": {},
   "outputs": [],
   "source": []
  },
  {
   "cell_type": "code",
   "execution_count": null,
   "metadata": {},
   "outputs": [],
   "source": []
  }
 ],
 "metadata": {
  "kernelspec": {
   "display_name": "Python 3",
   "language": "python",
   "name": "python3"
  },
  "language_info": {
   "codemirror_mode": {
    "name": "ipython",
    "version": 3
   },
   "file_extension": ".py",
   "mimetype": "text/x-python",
   "name": "python",
   "nbconvert_exporter": "python",
   "pygments_lexer": "ipython3",
   "version": "3.7.4"
  }
 },
 "nbformat": 4,
 "nbformat_minor": 2
}
