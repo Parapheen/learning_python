{
 "cells": [
  {
   "cell_type": "markdown",
   "metadata": {},
   "source": [
    "# Функции. Словари. Файлы. Модули"
   ]
  },
  {
   "cell_type": "markdown",
   "metadata": {},
   "source": [
    "Логично описывать сначала все функции, а потом делать операции с ними. \n",
    "\n",
    "Функция без return - процедура. \n",
    "\n",
    "def function (*a) - принимает бесконечное количество параметров\n",
    "\n",
    "Переменные внутри функции недоступны вне функции (нет аналогии с this.)\n",
    "\n",
    "Внутри функции можно обращаться к глобальным переменным, описанным вне функции"
   ]
  },
  {
   "cell_type": "code",
   "execution_count": 1,
   "metadata": {},
   "outputs": [],
   "source": [
    "def f(n):\n",
    "    return n * 10 + 5"
   ]
  },
  {
   "cell_type": "code",
   "execution_count": 2,
   "metadata": {},
   "outputs": [
    {
     "data": {
      "text/plain": [
       "10555"
      ]
     },
     "execution_count": 2,
     "metadata": {},
     "output_type": "execute_result"
    }
   ],
   "source": [
    "f(f(f(10)))"
   ]
  },
  {
   "cell_type": "markdown",
   "metadata": {},
   "source": [
    "Напишите функцию f(x), которая возвращает значение следующей функции, определённой на всей числовой прямой:\n",
    "\n",
    "𝑓(𝑥)=⎧⎩⎨⎪⎪1−(𝑥+2)2,−𝑥2,(𝑥−2)2+1,при 𝑥≤−2при −2<𝑥≤2при 2<𝑥\n",
    "Требуется реализовать только функцию, решение не должно осуществлять операций ввода-вывода."
   ]
  },
  {
   "cell_type": "code",
   "execution_count": 3,
   "metadata": {},
   "outputs": [],
   "source": [
    "def f(x):\n",
    "    if x <= -2:\n",
    "        return (1-(x+2)**2)\n",
    "    elif -2 < x <= 2:\n",
    "        return (-x/2)\n",
    "    else:\n",
    "        return ((x-2)**2 +1)"
   ]
  },
  {
   "cell_type": "code",
   "execution_count": 6,
   "metadata": {},
   "outputs": [
    {
     "data": {
      "text/plain": [
       "-0.5"
      ]
     },
     "execution_count": 6,
     "metadata": {},
     "output_type": "execute_result"
    }
   ],
   "source": [
    "f(1)"
   ]
  },
  {
   "cell_type": "markdown",
   "metadata": {},
   "source": [
    "Напишите функцию modify_list(l), которая принимает на вход список целых чисел, удаляет из него все нечётные значения, а чётные нацело делит на два. Функция не должна ничего возвращать, требуется только изменение переданного списка, например:\n",
    "\n",
    "lst = [1, 2, 3, 4, 5, 6]\n",
    "print(modify_list(lst))  # None\n",
    "print(lst)               # [1, 2, 3]\n",
    "modify_list(lst)\n",
    "print(lst)               # [1]\n",
    "\n",
    "lst = [10, 5, 8, 3]\n",
    "modify_list(lst)\n",
    "print(lst)               # [5, 4]\n",
    "Функция не должна осуществлять ввод/вывод информации."
   ]
  },
  {
   "cell_type": "code",
   "execution_count": 133,
   "metadata": {},
   "outputs": [],
   "source": [
    "def modify_list(l):\n",
    "    p = 0\n",
    "    while p<len(l):\n",
    "        if l[p] % 2 !=0:\n",
    "            l.remove(l[p])\n",
    "        else:\n",
    "            l[p] = l[p] // 2\n",
    "            p+=1"
   ]
  },
  {
   "cell_type": "code",
   "execution_count": 134,
   "metadata": {},
   "outputs": [],
   "source": [
    "l = [1, 2, 3, 4, 5, 6]\n",
    "modify_list(l)"
   ]
  },
  {
   "cell_type": "code",
   "execution_count": 135,
   "metadata": {},
   "outputs": [
    {
     "data": {
      "text/plain": [
       "[1, 2, 3]"
      ]
     },
     "execution_count": 135,
     "metadata": {},
     "output_type": "execute_result"
    }
   ],
   "source": [
    "l"
   ]
  },
  {
   "cell_type": "code",
   "execution_count": 136,
   "metadata": {},
   "outputs": [],
   "source": [
    "def modify_list(l):\n",
    "    l[:] = [i//2 for i in l if not i % 2]"
   ]
  },
  {
   "cell_type": "code",
   "execution_count": 137,
   "metadata": {},
   "outputs": [
    {
     "data": {
      "text/plain": [
       "[1, 2, 3]"
      ]
     },
     "execution_count": 137,
     "metadata": {},
     "output_type": "execute_result"
    }
   ],
   "source": [
    "l"
   ]
  },
  {
   "cell_type": "markdown",
   "metadata": {},
   "source": [
    "Множества\n",
    "s = set()\n",
    "basket = {'orange', 'apple'}\n",
    "\n",
    "List - Элементы в списке хранятся последовательно, каждому из них присвоены индексы, начиная с нуля.\n",
    "Turple - Кортеж, неизменяемый и более быстрый аналог списка.\n",
    "Set - Множество, набор уникальных элементов в случайном порядке (неупорядоченный список)."
   ]
  },
  {
   "cell_type": "markdown",
   "metadata": {},
   "source": [
    "Словари (те же объекты в js)\n",
    "dict, {}\n"
   ]
  },
  {
   "cell_type": "markdown",
   "metadata": {},
   "source": [
    "Напишите функцию update_dictionary(d, key, value), которая принимает на вход словарь 𝑑 и два числа: 𝑘𝑒𝑦 и 𝑣𝑎𝑙𝑢𝑒.\n",
    "\n",
    "Если ключ 𝑘𝑒𝑦 есть в словаре 𝑑, то добавьте значение 𝑣𝑎𝑙𝑢𝑒 в список, который хранится по этому ключу.\n",
    "Если ключа 𝑘𝑒𝑦 нет в словаре, то нужно добавить значение в список по ключу 2∗𝑘𝑒𝑦. Если и ключа 2∗𝑘𝑒𝑦 нет, то нужно добавить ключ 2∗𝑘𝑒𝑦 в словарь и сопоставить ему список из переданного элемента [𝑣𝑎𝑙𝑢𝑒].\n",
    "\n",
    "Требуется реализовать только эту функцию, кода вне неё не должно быть.\n",
    "Функция не должна вызывать внутри себя функции input и print."
   ]
  },
  {
   "cell_type": "code",
   "execution_count": 26,
   "metadata": {},
   "outputs": [],
   "source": [
    "def update_dictionary(d, key, value):\n",
    "    if key in d:\n",
    "        d[key].append(value)\n",
    "    else:\n",
    "        if (2*key) in d:\n",
    "            d[(2*key)].append(value)\n",
    "        else:\n",
    "            d[(2*key)] = [value]"
   ]
  },
  {
   "cell_type": "code",
   "execution_count": 27,
   "metadata": {},
   "outputs": [
    {
     "name": "stdout",
     "output_type": "stream",
     "text": [
      "None\n",
      "{2: [-1]}\n"
     ]
    }
   ],
   "source": [
    "d = {}\n",
    "print(update_dictionary(d, 1, -1))  # None\n",
    "print(d)"
   ]
  },
  {
   "cell_type": "code",
   "execution_count": 28,
   "metadata": {},
   "outputs": [
    {
     "name": "stdout",
     "output_type": "stream",
     "text": [
      "{2: [-1, -2]}\n"
     ]
    }
   ],
   "source": [
    "update_dictionary(d, 2, -2)\n",
    "print(d)"
   ]
  },
  {
   "cell_type": "code",
   "execution_count": 29,
   "metadata": {},
   "outputs": [
    {
     "name": "stdout",
     "output_type": "stream",
     "text": [
      "{2: [-1, -2, -3]}\n"
     ]
    }
   ],
   "source": [
    "update_dictionary(d, 1, -3)\n",
    "print(d)"
   ]
  },
  {
   "cell_type": "code",
   "execution_count": 30,
   "metadata": {},
   "outputs": [
    {
     "name": "stdout",
     "output_type": "stream",
     "text": [
      "{2: [-1, -2, -3], 6: [0]}\n"
     ]
    }
   ],
   "source": [
    "update_dictionary(d, 3, 0)\n",
    "print(d)"
   ]
  },
  {
   "cell_type": "code",
   "execution_count": 31,
   "metadata": {},
   "outputs": [],
   "source": [
    "def update_dictionary(d, key, value):\n",
    "    if key in d:\n",
    "        d[key] += [value]\n",
    "    elif 2 * key in d:\n",
    "        d[2 * key] += [value]\n",
    "    else:\n",
    "        d[2 * key] = [value]"
   ]
  },
  {
   "cell_type": "markdown",
   "metadata": {},
   "source": [
    "Когда Антон прочитал «Войну и мир», ему стало интересно, сколько слов и в каком количестве используется в этой книге.\n",
    "\n",
    "Помогите Антону написать упрощённую версию такой программы, которая сможет подсчитать слова, разделённые пробелом и вывести получившуюся статистику.\n",
    "\n",
    "Программа должна считывать одну строку со стандартного ввода и выводить для каждого уникального слова в этой строке число его повторений (без учёта регистра) в формате \"слово количество\" (см. пример вывода).\n",
    "Порядок вывода слов может быть произвольным, каждое уникальное слово﻿ должно выводиться только один раз."
   ]
  },
  {
   "cell_type": "code",
   "execution_count": 78,
   "metadata": {},
   "outputs": [
    {
     "name": "stdout",
     "output_type": "stream",
     "text": [
      "a A a\n",
      "a 3\n"
     ]
    }
   ],
   "source": [
    "words = input().lower().split()\n",
    "\n",
    "counter = {x: words.count(x) for x in words}\n",
    "\n",
    "for key, value in counter.items():\n",
    "    print (key, value)"
   ]
  },
  {
   "cell_type": "markdown",
   "metadata": {},
   "source": [
    "Имеется реализованная функция 𝑓(𝑥), принимающая на вход целое число 𝑥, которая вычисляет некоторое целочисленое значение и возвращает его в качестве результата работы.\n",
    "\n",
    "Функция вычисляется достаточно долго, ничего не выводит на экран, не пишет в файлы и зависит только от переданного аргумента 𝑥.\n",
    "\n",
    "Напишите программу, которой на вход в первой строке подаётся число 𝑛 — количество значений 𝑥, для которых требуется узнать значение функции 𝑓(𝑥), после чего сами эти 𝑛 значений, каждое на отдельной строке. Программа должна после каждого введённого значения аргумента вывести соответствующие значения функции 𝑓 на отдельной строке.\n",
    "\n",
    "Для ускорения вычисления необходимо сохранять уже вычисленные значения функции при известных аргументах.\n",
    "\n",
    "Обратите внимание, что в этой задаче установлено достаточно сильное ограничение в две секунды по времени исполнения кода на тесте."
   ]
  },
  {
   "cell_type": "code",
   "execution_count": 3,
   "metadata": {},
   "outputs": [
    {
     "name": "stdout",
     "output_type": "stream",
     "text": [
      "5\n",
      "1\n",
      "2\n",
      "3\n",
      "4\n",
      "5\n",
      "{0: 1, 1: 2, 2: 3, 3: 4, 4: 5}\n"
     ]
    }
   ],
   "source": [
    "n = int(input())\n",
    "d = {x : int(input()) for x in range(n)}\n",
    "print(d)"
   ]
  },
  {
   "cell_type": "code",
   "execution_count": 44,
   "metadata": {},
   "outputs": [],
   "source": [
    "def inverted_convertion(string):\n",
    "    n = string[0]\n",
    "    converted = ''\n",
    "    digits = ''\n",
    "    for letter in string:\n",
    "        if letter.isdigit():\n",
    "            digits += letter\n",
    "        elif letter.isalpha() and digits:\n",
    "            converted += n * int(digits)\n",
    "            n = letter\n",
    "            digits = ''\n",
    "            continue\n",
    "    converted += n * int(digits)\n",
    "    return converted"
   ]
  },
  {
   "cell_type": "code",
   "execution_count": 34,
   "metadata": {},
   "outputs": [
    {
     "data": {
      "text/plain": [
       "'aaabbbbcceeeeeeeeeeb'"
      ]
     },
     "execution_count": 34,
     "metadata": {},
     "output_type": "execute_result"
    }
   ],
   "source": [
    "inverted_convertion('a3b4c2e10b1')"
   ]
  },
  {
   "cell_type": "code",
   "execution_count": 45,
   "metadata": {},
   "outputs": [],
   "source": [
    "with open('dataset_3363_2 (1).txt', 'r') as f, open('file_new.txt', 'w') as out:\n",
    "    s = f.readline()\n",
    "    out.write(inverted_convertion(s))"
   ]
  },
  {
   "cell_type": "markdown",
   "metadata": {},
   "source": [
    "Напишите программу, которая считывает текст из файла (в файле может быть больше одной строки) и выводит самое частое слово в этом тексте и через пробел то, сколько раз оно встретилось. Если таких слов несколько, вывести лексикографически первое (можно использовать оператор < для строк)."
   ]
  },
  {
   "cell_type": "code",
   "execution_count": 23,
   "metadata": {},
   "outputs": [],
   "source": [
    "def frequent_words(line):\n",
    "    line = line.lower().split()\n",
    "    print(line)"
   ]
  },
  {
   "cell_type": "code",
   "execution_count": 24,
   "metadata": {},
   "outputs": [
    {
     "name": "stdout",
     "output_type": "stream",
     "text": [
      "['abc', 'a', 'bcd', 'bc', 'abc', 'bc', 'bcd', 'bcd', 'abc']\n"
     ]
    }
   ],
   "source": [
    "frequent_words('abc a bCd bC AbC BC BCD bcd ABC')"
   ]
  },
  {
   "cell_type": "code",
   "execution_count": null,
   "metadata": {},
   "outputs": [],
   "source": [
    ""
   ]
  }
 ],
 "metadata": {
  "kernelspec": {
   "display_name": "Python 3",
   "language": "python",
   "name": "python3"
  },
  "language_info": {
   "codemirror_mode": {
    "name": "ipython",
    "version": 3.0
   },
   "file_extension": ".py",
   "mimetype": "text/x-python",
   "name": "python",
   "nbconvert_exporter": "python",
   "pygments_lexer": "ipython3",
   "version": "3.7.4"
  }
 },
 "nbformat": 4,
 "nbformat_minor": 0
}