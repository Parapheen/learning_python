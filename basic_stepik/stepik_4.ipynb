{
 "cells": [
  {
   "cell_type": "markdown",
   "metadata": {},
   "source": [
    "Напишите программу, которая принимает на стандартный вход список игр футбольных команд с результатом матча и выводит на стандартный вывод сводную таблицу результатов всех матчей.\n",
    "\n",
    "За победу команде начисляется 3 очка, за поражение — 0, за ничью — 1.\n",
    "\n",
    "Формат ввода следующий:\n",
    "В первой строке указано целое число 𝑛 — количество завершенных игр.\n",
    "После этого идет 𝑛 строк, в которых записаны результаты игры в следующем формате:\n",
    "Первая_команда;Забито_первой_командой;Вторая_команда;Забито_второй_командой\n",
    "\n",
    "Вывод программы необходимо оформить следующим образом:\n",
    "Команда:Всего_игр Побед Ничьих Поражений Всего_очков\n",
    "\n",
    "Конкретный пример ввода-вывода приведён ниже.\n",
    "\n",
    "Порядок вывода команд произвольный.\n",
    "\n",
    "Sample Input:\n",
    "\n",
    "3\n",
    "Зенит;3;Спартак;1\n",
    "Спартак;1;ЦСКА;1\n",
    "ЦСКА;0;Зенит;2\n",
    "Sample Output:\n",
    "\n",
    "Зенит:2 2 0 0 6\n",
    "ЦСКА:2 0 1 1 1\n",
    "Спартак:2 0 1 1 1"
   ]
  },
  {
   "cell_type": "code",
   "execution_count": 124,
   "metadata": {
    "scrolled": false
   },
   "outputs": [
    {
     "name": "stdout",
     "output_type": "stream",
     "text": [
      "3\n",
      "Зенит;3;Спартак;1\\nСпартак;1;ЦСКА;1\\nЦСКА;0;Зенит;2\n"
     ]
    }
   ],
   "source": [
    "n = int(input())\n",
    "games_ = input()\n",
    "games = games_.strip('\\n').split()"
   ]
  },
  {
   "cell_type": "code",
   "execution_count": 125,
   "metadata": {},
   "outputs": [
    {
     "data": {
      "text/plain": [
       "['Зенит;3;Спартак;1\\\\nСпартак;1;ЦСКА;1\\\\nЦСКА;0;Зенит;2']"
      ]
     },
     "execution_count": 125,
     "metadata": {},
     "output_type": "execute_result"
    }
   ],
   "source": [
    "games"
   ]
  },
  {
   "cell_type": "code",
   "execution_count": 115,
   "metadata": {},
   "outputs": [],
   "source": [
    "team_result = {}\n",
    "for game in games:\n",
    "    team_1 = game.split(';')[0]\n",
    "    team_2 = game.split(';')[-2]\n",
    "    score_1 = game.split(';')[1]\n",
    "    score_2 = game.split(';')[-1]\n",
    "    if score_1 > score_2:\n",
    "        if team_1 not in team_result and team_2 not in team_result:\n",
    "            team_result[team_1] = ['win']\n",
    "            team_result[team_2] = ['lose']\n",
    "        elif team_1 in team_result and team_2 not in team_result:\n",
    "            team_result[team_1].append('win')\n",
    "            team_result[team_2] = ['lose']\n",
    "        elif not team_1 not in team_result and team_2 in team_result:\n",
    "            team_result[team_1] = ['win']\n",
    "            team_result[team_2].append('lose')\n",
    "        else:\n",
    "            team_result[team_1].append('win')\n",
    "            team_result[team_2].append('lose')\n",
    "    elif score_1 < score_2:\n",
    "        if team_1 not in team_result and team_2 not in team_result:\n",
    "            team_result[team_1] = ['lose']\n",
    "            team_result[team_2] = ['win']\n",
    "        elif team_1 in team_result and team_2 not in team_result:\n",
    "            team_result[team_1].append('lose')\n",
    "            team_result[team_2] = ['wine']\n",
    "        elif team_1 not in team_result and team_2 in team_result:\n",
    "            team_result[team_1] = ['lose']\n",
    "            team_result[team_2].append('win')\n",
    "        else:\n",
    "            team_result[team_1].append('lose')\n",
    "            team_result[team_2].append('win')\n",
    "    elif score_1 == score_2:\n",
    "        if team_1 not in team_result and team_2 not in team_result:\n",
    "            team_result[team_1] = ['draw']\n",
    "            team_result[team_2] = ['draw']\n",
    "        elif team_1 in team_result and team_2 not in team_result:\n",
    "            team_result[team_1].append('draw')\n",
    "            team_result[team_2] = ['draw']\n",
    "        elif team_1 not in team_result and team_2 in team_result:\n",
    "            team_result[team_1] = ['draw']\n",
    "            team_result[team_2].append('draw')\n",
    "        else:\n",
    "            team_result[team_1].append('draw')\n",
    "            team_result[team_2].append('draw')"
   ]
  },
  {
   "cell_type": "code",
   "execution_count": 121,
   "metadata": {},
   "outputs": [
    {
     "name": "stdout",
     "output_type": "stream",
     "text": [
      "Зенит:2 2 0 0 6\n",
      "Спартак:2 0 1 1 1\n",
      "ЦСКА:2 0 1 1 1\n"
     ]
    }
   ],
   "source": [
    "for team, results in team_result.items():\n",
    "    wins = ''.join(results).count('win')\n",
    "    draws = ''.join(results).count('draw')\n",
    "    loses = ''.join(results).count('lose')\n",
    "    all_points = wins*3 + draws*1\n",
    "    print('{team}:{games_played} {wins} {draws} {loses} {all_points}'.format(team=team, games_played=len(results), wins=wins,\n",
    "                                                               draws=draws, loses=loses, all_points=all_points))"
   ]
  },
  {
   "cell_type": "code",
   "execution_count": 126,
   "metadata": {},
   "outputs": [],
   "source": [
    "import requests"
   ]
  },
  {
   "cell_type": "code",
   "execution_count": 127,
   "metadata": {},
   "outputs": [],
   "source": [
    "r = requests.get('https://stepic.org/media/attachments/course67/3.6.2/119.txt').text"
   ]
  },
  {
   "cell_type": "code",
   "execution_count": 133,
   "metadata": {
    "scrolled": true
   },
   "outputs": [
    {
     "data": {
      "text/plain": [
       "['\"Shut the \\'relatives\\' up,\" said Beatty, looking around at everything except Montag and his wife.',\n",
       " '',\n",
       " 'This time, Mildred ran. The yammering voices stopped yelling in the parlor.',\n",
       " '',\n",
       " 'Captain Beatty sat down in the most comfortable chair with a peaceful look on his ruddy face. He took time to prepare and light his brass pipe and puff out a great smoke cloud. \"Just thought I\\'d come by and see how the sick man is.\"',\n",
       " '',\n",
       " '\"How\\'d you guess?\"',\n",
       " '',\n",
       " 'Beatty smiled his smile which showed the candy pinkness of his gums and the tiny candy whiteness of his teeth. \"I\\'ve seen it all. You were going to call for a night off.\"',\n",
       " '',\n",
       " 'Montag sat in bed.',\n",
       " '',\n",
       " '\"Well,\" said Beatty, \"take the night off!\" He examined his eternal matchbox, the lid of which said GUARANTEED: ONE MILLION LIGHTS IN THIS IGNITER, and began to strike the chemical match abstractedly, blowout, strike, blowout, strike, speak a few words, blowout. He looked at the flame. He blew, he looked at the smoke. \"When will you be well?\"',\n",
       " '',\n",
       " '\"Tomorrow. The next day maybe. First of the week.\"',\n",
       " '',\n",
       " 'Beatty puffed his pipe. \"Every fireman, sooner or later, hits this. They only need understanding, to know how the wheels run. Need to know the history of our profession. They don\\'t feed it to rookies like they used to. Damn shame.\" Puff.  \"Only fire chiefs remember it now. \" Puff. \"I\\'ll let you in on it.\"',\n",
       " '',\n",
       " 'Mildred fidgeted.',\n",
       " '',\n",
       " 'Beatty took a full minute to settle himself in and think back for what he wanted to say.',\n",
       " '',\n",
       " '\"When did it all start, you ask, this job of ours, how did it come about, where, when? Well, I\\'d say it really got started around about a thing called the Civil War.  Even though our rule book claims it was founded earlier. The fact is we didn\\'t get along well until photography came into its own. Then motion pictures in the early twentieth century. Radio. Television. Things began to have mass.\"',\n",
       " '',\n",
       " 'Montag sat in bed, not moving.']"
      ]
     },
     "execution_count": 133,
     "metadata": {},
     "output_type": "execute_result"
    }
   ],
   "source": [
    "r.strip().splitlines()"
   ]
  },
  {
   "cell_type": "code",
   "execution_count": 131,
   "metadata": {},
   "outputs": [
    {
     "data": {
      "text/plain": [
       "25"
      ]
     },
     "execution_count": 131,
     "metadata": {},
     "output_type": "execute_result"
    }
   ],
   "source": [
    "len(r.strip().splitlines())"
   ]
  },
  {
   "cell_type": "code",
   "execution_count": 134,
   "metadata": {},
   "outputs": [],
   "source": [
    "re = requests.get('https://stepic.org/media/attachments/course67/3.6.3/699991.txt').text"
   ]
  },
  {
   "cell_type": "code",
   "execution_count": 135,
   "metadata": {},
   "outputs": [
    {
     "data": {
      "text/plain": [
       "'213837.txt'"
      ]
     },
     "execution_count": 135,
     "metadata": {},
     "output_type": "execute_result"
    }
   ],
   "source": [
    "re"
   ]
  },
  {
   "cell_type": "code",
   "execution_count": 180,
   "metadata": {},
   "outputs": [],
   "source": [
    "req = requests.get('https://stepic.org/media/attachments/course67/3.6.3/104249.txt').text"
   ]
  },
  {
   "cell_type": "code",
   "execution_count": 181,
   "metadata": {},
   "outputs": [
    {
     "data": {
      "text/plain": [
       "'382504.txt'"
      ]
     },
     "execution_count": 181,
     "metadata": {},
     "output_type": "execute_result"
    }
   ],
   "source": [
    "while"
   ]
  },
  {
   "cell_type": "code",
   "execution_count": null,
   "metadata": {},
   "outputs": [],
   "source": []
  }
 ],
 "metadata": {
  "kernelspec": {
   "display_name": "Python 3",
   "language": "python",
   "name": "python3"
  },
  "language_info": {
   "codemirror_mode": {
    "name": "ipython",
    "version": 3
   },
   "file_extension": ".py",
   "mimetype": "text/x-python",
   "name": "python",
   "nbconvert_exporter": "python",
   "pygments_lexer": "ipython3",
   "version": "3.7.4"
  }
 },
 "nbformat": 4,
 "nbformat_minor": 2
}
